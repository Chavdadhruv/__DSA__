{
 "cells": [
  {
   "cell_type": "code",
   "execution_count": null,
   "metadata": {},
   "outputs": [],
   "source": [
    "class QuadraticProbingHashTable:\n",
    "    def __init__(self, size):\n",
    "        self.size = size\n",
    "        self.table = [None] * size\n",
    "\n",
    "    def hash_function(self, key):\n",
    "        return key % self.size\n",
    "\n",
    "    def insert(self, key):\n",
    "        index = self.hash_function(key)\n",
    "        i = 1\n",
    "        while self.table[index] is not None:\n",
    "            index = (index + i * i) % self.size  # Quadratic probing\n",
    "            i += 1\n",
    "        self.table[index] = key\n",
    "\n",
    "    def search(self, key):\n",
    "        index = self.hash_function(key)\n",
    "        i = 1\n",
    "        start_index = index\n",
    "        while self.table[index] is not None:\n",
    "            if self.table[index] == key:\n",
    "                return index\n",
    "            index = (index + i * i) % self.size\n",
    "            i += 1\n",
    "            if index == start_index:\n",
    "                break\n",
    "        return None\n",
    "\n",
    "    def delete(self, key):\n",
    "        index = self.search(key)\n",
    "        if index is not None:\n",
    "            self.table[index] = None\n",
    "\n",
    "    def display(self):\n",
    "        print(\"Hash Table:\", self.table)\n",
    "\n",
    "\n",
    "# Example Usage\n",
    "hash_table = QuadraticProbingHashTable(7)\n",
    "hash_table.insert(10)\n",
    "hash_table.insert(20)\n",
    "hash_table.insert(30)\n",
    "hash_table.display()\n",
    "print(\"Search for 20:\", hash_table.search(20))\n",
    "hash_table.delete(20)\n",
    "hash_table.display()\n"
   ]
  }
 ],
 "metadata": {
  "language_info": {
   "name": "python"
  }
 },
 "nbformat": 4,
 "nbformat_minor": 2
}
